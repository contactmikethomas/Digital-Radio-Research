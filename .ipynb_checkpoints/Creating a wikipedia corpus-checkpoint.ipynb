{
 "cells": [
  {
   "cell_type": "markdown",
   "metadata": {},
   "source": [
    "## Downloading Wikipedia Corpus\n",
    "\n",
    "https://dumps.wikimedia.org/enwiki/20180701/"
   ]
  },
  {
   "cell_type": "code",
   "execution_count": null,
   "metadata": {},
   "outputs": [],
   "source": [
    "links = [('https://dumps.wikimedia.org/enwiki/20180701/enwiki-20180701-pages-meta-current1.xml-p10p30303.bz2 ','p10p30303'),\n",
    "('https://dumps.wikimedia.org/enwiki/20180701/enwiki-20180701-pages-meta-current2.xml-p30304p88444.bz2 ','p30304p88444'),\n",
    "('https://dumps.wikimedia.org/enwiki/20180701/enwiki-20180701-pages-meta-current3.xml-p88445p200507.bz2 ','p88445p200507'),\n",
    "('https://dumps.wikimedia.org/enwiki/20180701/enwiki-20180701-pages-meta-current4.xml-p200511p352689.bz2 ','p200511p352689'),\n",
    "('https://dumps.wikimedia.org/enwiki/20180701/enwiki-20180701-pages-meta-current5.xml-p352690p565313.bz2 ','p352690p565313'),\n",
    "('https://dumps.wikimedia.org/enwiki/20180701/enwiki-20180701-pages-meta-current6.xml-p565314p892912.bz2 ','p565314p892912'),\n",
    "('https://dumps.wikimedia.org/enwiki/20180701/enwiki-20180701-pages-meta-current7.xml-p892914p1268691.bz2 ','p892914p1268691'),\n",
    "('https://dumps.wikimedia.org/enwiki/20180701/enwiki-20180701-pages-meta-current8.xml-p1268692p1791079.bz2 ','p1268692p1791079'),\n",
    "('https://dumps.wikimedia.org/enwiki/20180701/enwiki-20180701-pages-meta-current9.xml-p1791080p2336422.bz2 ','p1791080p2336422'),\n",
    "('https://dumps.wikimedia.org/enwiki/20180701/enwiki-20180701-pages-meta-current10.xml-p2336425p3046511.bz2 ','p2336425p3046511'),\n",
    "('https://dumps.wikimedia.org/enwiki/20180701/enwiki-20180701-pages-meta-current11.xml-p3046514p3926861.bz2 ','p3046514p3926861'),\n",
    "('https://dumps.wikimedia.org/enwiki/20180701/enwiki-20180701-pages-meta-current12.xml-p3926863p5040436.bz2 ','p3926863p5040436'),\n",
    "('https://dumps.wikimedia.org/enwiki/20180701/enwiki-20180701-pages-meta-current13.xml-p5040438p6197594.bz2 ','p5040438p6197594'),\n",
    "('https://dumps.wikimedia.org/enwiki/20180701/enwiki-20180701-pages-meta-current14.xml-p6197598p7697598.bz2 ','p6197598p7697598'),\n",
    "('https://dumps.wikimedia.org/enwiki/20180701/enwiki-20180701-pages-meta-current14.xml-p7697598p7744799.bz2 ','p7697598p7744799'),\n",
    "('https://dumps.wikimedia.org/enwiki/20180701/enwiki-20180701-pages-meta-current15.xml-p7744803p9244803.bz2 ','p7744803p9244803'),\n",
    "('https://dumps.wikimedia.org/enwiki/20180701/enwiki-20180701-pages-meta-current15.xml-p9244803p9518048.bz2 ','p9244803p9518048'),\n",
    "('https://dumps.wikimedia.org/enwiki/20180701/enwiki-20180701-pages-meta-current16.xml-p9518050p11018050.bz2 ','p9518050p11018050'),\n",
    "('https://dumps.wikimedia.org/enwiki/20180701/enwiki-20180701-pages-meta-current16.xml-p11018050p11539266.bz2 ','p11018050p11539266'),\n",
    "('https://dumps.wikimedia.org/enwiki/20180701/enwiki-20180701-pages-meta-current17.xml-p11539268p13039268.bz2 ','p11539268p13039268'),\n",
    "('https://dumps.wikimedia.org/enwiki/20180701/enwiki-20180701-pages-meta-current17.xml-p13039268p13693071.bz2 ','p13039268p13693071'),\n",
    "('https://dumps.wikimedia.org/enwiki/20180701/enwiki-20180701-pages-meta-current18.xml-p13693074p15193074.bz2 ','p13693074p15193074'),\n",
    "('https://dumps.wikimedia.org/enwiki/20180701/enwiki-20180701-pages-meta-current18.xml-p15193074p16120542.bz2 ','p15193074p16120542'),\n",
    "('https://dumps.wikimedia.org/enwiki/20180701/enwiki-20180701-pages-meta-current19.xml-p16120543p17620543.bz2 ','p16120543p17620543'),\n",
    "('https://dumps.wikimedia.org/enwiki/20180701/enwiki-20180701-pages-meta-current19.xml-p17620543p18754735.bz2 ','p17620543p18754735'),\n",
    "('https://dumps.wikimedia.org/enwiki/20180701/enwiki-20180701-pages-meta-current20.xml-p18754736p20254736.bz2 ','p18754736p20254736'),\n",
    "('https://dumps.wikimedia.org/enwiki/20180701/enwiki-20180701-pages-meta-current20.xml-p20254736p21222156.bz2 ','p20254736p21222156'),\n",
    "('https://dumps.wikimedia.org/enwiki/20180701/enwiki-20180701-pages-meta-current21.xml-p21222158p22722158.bz2 ','p21222158p22722158'),\n",
    "('https://dumps.wikimedia.org/enwiki/20180701/enwiki-20180701-pages-meta-current21.xml-p22722158p23927983.bz2 ','p22722158p23927983'),\n",
    "('https://dumps.wikimedia.org/enwiki/20180701/enwiki-20180701-pages-meta-current22.xml-p23927984p25427984.bz2 ','p23927984p25427984'),\n",
    "('https://dumps.wikimedia.org/enwiki/20180701/enwiki-20180701-pages-meta-current22.xml-p25427984p26823660.bz2 ','p25427984p26823660'),\n",
    "('https://dumps.wikimedia.org/enwiki/20180701/enwiki-20180701-pages-meta-current23.xml-p26823661p28323661.bz2 ','p26823661p28323661'),\n",
    "('https://dumps.wikimedia.org/enwiki/20180701/enwiki-20180701-pages-meta-current23.xml-p28323661p29823661.bz2 ','p28323661p29823661'),\n",
    "('https://dumps.wikimedia.org/enwiki/20180701/enwiki-20180701-pages-meta-current23.xml-p29823661p30503449.bz2 ','p29823661p30503449'),\n",
    "('https://dumps.wikimedia.org/enwiki/20180701/enwiki-20180701-pages-meta-current24.xml-p30503451p32003451.bz2 ','p30503451p32003451'),\n",
    "('https://dumps.wikimedia.org/enwiki/20180701/enwiki-20180701-pages-meta-current24.xml-p32003451p33503451.bz2 ','p32003451p33503451'),\n",
    "('https://dumps.wikimedia.org/enwiki/20180701/enwiki-20180701-pages-meta-current24.xml-p33503451p33952815.bz2 ','p33503451p33952815'),\n",
    "('https://dumps.wikimedia.org/enwiki/20180701/enwiki-20180701-pages-meta-current25.xml-p33952816p35452816.bz2 ','p33952816p35452816'),\n",
    "('https://dumps.wikimedia.org/enwiki/20180701/enwiki-20180701-pages-meta-current25.xml-p35452816p36952816.bz2 ','p35452816p36952816'),\n",
    "('https://dumps.wikimedia.org/enwiki/20180701/enwiki-20180701-pages-meta-current25.xml-p36952816p38067202.bz2 ','p36952816p38067202'),\n",
    "('https://dumps.wikimedia.org/enwiki/20180701/enwiki-20180701-pages-meta-current26.xml-p38067203p39567203.bz2 ','p38067203p39567203'),\n",
    "('https://dumps.wikimedia.org/enwiki/20180701/enwiki-20180701-pages-meta-current26.xml-p39567203p41067203.bz2 ','p39567203p41067203'),\n",
    "('https://dumps.wikimedia.org/enwiki/20180701/enwiki-20180701-pages-meta-current26.xml-p41067203p42567203.bz2 ','p41067203p42567203'),\n",
    "('https://dumps.wikimedia.org/enwiki/20180701/enwiki-20180701-pages-meta-current26.xml-p42567203p42663461.bz2 ','p42567203p42663461'),\n",
    "('https://dumps.wikimedia.org/enwiki/20180701/enwiki-20180701-pages-meta-current27.xml-p42663462p44163462.bz2 ','p42663462p44163462'),\n",
    "('https://dumps.wikimedia.org/enwiki/20180701/enwiki-20180701-pages-meta-current27.xml-p44163462p45663462.bz2 ','p44163462p45663462'),\n",
    "('https://dumps.wikimedia.org/enwiki/20180701/enwiki-20180701-pages-meta-current27.xml-p45663462p47163462.bz2 ','p45663462p47163462'),\n",
    "('https://dumps.wikimedia.org/enwiki/20180701/enwiki-20180701-pages-meta-current27.xml-p47163462p48663462.bz2 ','p47163462p48663462'),\n",
    "('https://dumps.wikimedia.org/enwiki/20180701/enwiki-20180701-pages-meta-current27.xml-p48663462p50163462.bz2 ','p48663462p50163462'),\n",
    "('https://dumps.wikimedia.org/enwiki/20180701/enwiki-20180701-pages-meta-current27.xml-p50163462p51663462.bz2 ','p50163462p51663462'),\n",
    "('https://dumps.wikimedia.org/enwiki/20180701/enwiki-20180701-pages-meta-current27.xml-p51663462p53163462.bz2 ','p51663462p53163462'),\n",
    "('https://dumps.wikimedia.org/enwiki/20180701/enwiki-20180701-pages-meta-current27.xml-p53163462p54663462.bz2 ','p53163462p54663462'),\n",
    "('https://dumps.wikimedia.org/enwiki/20180701/enwiki-20180701-pages-meta-current27.xml-p54663462p56163462.bz2 ','p54663462p56163462'),\n",
    "('https://dumps.wikimedia.org/enwiki/20180701/enwiki-20180701-pages-meta-current27.xml-p56163462p57663462.bz2 ','p56163462p57663462'),\n",
    "('https://dumps.wikimedia.org/enwiki/20180701/enwiki-20180701-pages-meta-current27.xml-p57663462p57805216.bz2 ','p57663462p57805216')]"
   ]
  },
  {
   "cell_type": "markdown",
   "metadata": {},
   "source": [
    "## Downloading Wikifiles"
   ]
  },
  {
   "cell_type": "code",
   "execution_count": null,
   "metadata": {},
   "outputs": [],
   "source": [
    "import urllib.request"
   ]
  },
  {
   "cell_type": "markdown",
   "metadata": {},
   "source": [
    "for l in links:\n",
    "    urllib.request.urlretrieve(l[0],\"/home/de-admin/Documents/open data/wikipedia bzips/\"+l[1]+\".bz2\")\n",
    "    print(l[1],\"done\")"
   ]
  },
  {
   "cell_type": "markdown",
   "metadata": {},
   "source": [
    "## Decompress and Cleanse Wikifiles"
   ]
  },
  {
   "cell_type": "code",
   "execution_count": 2,
   "metadata": {},
   "outputs": [],
   "source": [
    "import os\n",
    "import bz2"
   ]
  },
  {
   "cell_type": "code",
   "execution_count": 3,
   "metadata": {},
   "outputs": [],
   "source": [
    "zip_list = []\n",
    "\n",
    "input_dir = \"/home/de-admin/Documents/open data/wikipedia bzips/\"\n",
    "output_dir = \"/home/de-admin/Documents/open data/wikipedia txt/\"\n",
    "\n",
    "for zips in os.listdir(input_dir):\n",
    "    zip_list.append(zips[:-4])"
   ]
  },
  {
   "cell_type": "code",
   "execution_count": 4,
   "metadata": {},
   "outputs": [],
   "source": [
    "import lxml\n",
    "from lxml import html, etree\n",
    "import mwparserfromhell\n",
    "import pandas as pd\n",
    "import pickle"
   ]
  },
  {
   "cell_type": "code",
   "execution_count": 18,
   "metadata": {
    "scrolled": true
   },
   "outputs": [
    {
     "name": "stdout",
     "output_type": "stream",
     "text": [
      "Processing file 40\n",
      "Parsing text 40\n",
      "Pickling dataset 40\n",
      "Deleting interrim dataset 40\n",
      "Processing file 41\n",
      "Parsing text 41\n",
      "Pickling dataset 41\n",
      "Deleting interrim dataset 41\n",
      "Processing file 42\n",
      "Parsing text 42\n",
      "Pickling dataset 42\n",
      "Deleting interrim dataset 42\n",
      "Processing file 43\n",
      "Parsing text 43\n",
      "Pickling dataset 43\n",
      "Deleting interrim dataset 43\n",
      "Processing file 44\n",
      "Parsing text 44\n",
      "Pickling dataset 44\n",
      "Deleting interrim dataset 44\n",
      "Processing file 45\n",
      "Parsing text 45\n",
      "Pickling dataset 45\n",
      "Deleting interrim dataset 45\n",
      "Processing file 46\n",
      "Parsing text 46\n",
      "Pickling dataset 46\n",
      "Deleting interrim dataset 46\n",
      "Processing file 47\n",
      "Parsing text 47\n",
      "Pickling dataset 47\n",
      "Deleting interrim dataset 47\n",
      "Processing file 48\n",
      "Parsing text 48\n",
      "Pickling dataset 48\n",
      "Deleting interrim dataset 48\n",
      "Processing file 49\n",
      "Parsing text 49\n",
      "Pickling dataset 49\n",
      "Deleting interrim dataset 49\n",
      "Processing file 50\n",
      "Parsing text 50\n",
      "Pickling dataset 50\n",
      "Deleting interrim dataset 50\n",
      "Processing file 51\n",
      "Parsing text 51\n",
      "Pickling dataset 51\n",
      "Deleting interrim dataset 51\n",
      "Processing file 52\n",
      "Parsing text 52\n",
      "Pickling dataset 52\n",
      "Deleting interrim dataset 52\n",
      "Processing file 53\n",
      "Parsing text 53\n",
      "Pickling dataset 53\n",
      "Deleting interrim dataset 53\n",
      "Processing file 54\n",
      "Parsing text 54\n",
      "Pickling dataset 54\n",
      "Deleting interrim dataset 54\n"
     ]
    }
   ],
   "source": [
    "pages_to_remove = [\"User:\", \"User talk:\", \"File:\", \"File talk:\", \"Category:\", \"Category talk:\", \"Wikipedia:\", \"Wikipedia talk:\", \"Template:\", \"Template talk:\", \"Portal:\", \"Portal talk:\", \"Help:\", \"Help talk:\", \"Book:\", \"Book talk:\", \"Draft:\", \"Draft talk:\",  \"MediaWiki:\", \"MediaWiki talk:\", \"Module:\", \"Module talk:\", \"Talk:\", \"Special:\"]\n",
    "text_to_remove = [\"#REDIRECT\", \"#redirect\", \"#Redirect\"]\n",
    "\n",
    "i=40\n",
    "#j=40\n",
    "\n",
    "for zips in zip_list[i:]:\n",
    "    print(\"Processing file %s\" % str(i))\n",
    "    filepath = os.path.join(input_dir, zips + \".bz2\")\n",
    "    newfilepath = os.path.join(output_dir, zips)\n",
    "    \n",
    "    with open(newfilepath, 'wb') as new_file, bz2.BZ2File(filepath, 'rb') as file:\n",
    "        for data in iter(lambda : file.read(100 * 1024), b''):\n",
    "            new_file.write(data)\n",
    "    \n",
    "    print(\"Parsing text %s\" % str(i))\n",
    "    \n",
    "    wikitext = open(newfilepath, encoding='utf-8')\n",
    "    \n",
    "    output = []\n",
    "    text = \"\"\n",
    "    title = \"\"\n",
    "    get_bit = 1\n",
    "\n",
    "    with wikitext as wt:\n",
    "        for line in wt:          \n",
    "            if \"</page>\" in line:\n",
    "                if get_bit == 1:\n",
    "                    text = text + \" \" + line\n",
    "                    try:\n",
    "                        if get_bit == 1:\n",
    "                            output.append([title, text])\n",
    "                    except:\n",
    "                        print(text)\n",
    "                else:\n",
    "                    get_bit = 1\n",
    "            elif \"<page>\" in line: \n",
    "                text = \"<page>\"\n",
    "                title = \"\"\n",
    "            elif \"<title>\" in line:\n",
    "                text = text + \" \" + line\n",
    "                title = etree.fromstring(str(mwparserfromhell.parse(line))).xpath('//title//text()')[0]\n",
    "                for ptr in pages_to_remove:\n",
    "                    if title.startswith(ptr):\n",
    "                        get_bit = 0\n",
    "            elif get_bit == 1:\n",
    "                text = text + \" \" + line                \n",
    "                \n",
    "    print(\"Pickling dataset %s\" % str(i))\n",
    "    \n",
    "    pickle_file = \"/home/de-admin/Documents/open data/wikipedia pickle/output\"+str(i)+\".p\"\n",
    "    pickle.dump(output, open(pickle_file, 'wb'), pickle.HIGHEST_PROTOCOL)\n",
    "\n",
    "    print(\"Deleting interrim dataset %s\" % str(i))\n",
    "    \n",
    "    os.remove(newfilepath)\n",
    "\n",
    "    i = i + 1"
   ]
  }
 ],
 "metadata": {
  "kernelspec": {
   "display_name": "Python 3",
   "language": "python",
   "name": "python3"
  },
  "language_info": {
   "codemirror_mode": {
    "name": "ipython",
    "version": 3
   },
   "file_extension": ".py",
   "mimetype": "text/x-python",
   "name": "python",
   "nbconvert_exporter": "python",
   "pygments_lexer": "ipython3",
   "version": "3.6.5"
  }
 },
 "nbformat": 4,
 "nbformat_minor": 2
}
