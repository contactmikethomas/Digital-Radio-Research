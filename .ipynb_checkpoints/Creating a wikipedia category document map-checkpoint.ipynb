{
 "cells": [
  {
   "cell_type": "markdown",
   "metadata": {},
   "source": [
    "## Loading Wikipedia Data"
   ]
  },
  {
   "cell_type": "code",
   "execution_count": 4,
   "metadata": {},
   "outputs": [],
   "source": [
    "import os"
   ]
  },
  {
   "cell_type": "code",
   "execution_count": 5,
   "metadata": {},
   "outputs": [],
   "source": [
    "pickle_list = []\n",
    "\n",
    "input_dir = \"/home/de-admin/Documents/open data/wikipedia final pickle/\"\n",
    "output_dir = \"/home/de-admin/Documents/open data/wikipedia category document map/\"\n",
    "\n",
    "for pickle in os.listdir(input_dir):\n",
    "    pickle_list.append(pickle)"
   ]
  },
  {
   "cell_type": "code",
   "execution_count": 6,
   "metadata": {},
   "outputs": [],
   "source": [
    "import pickle"
   ]
  },
  {
   "cell_type": "code",
   "execution_count": 7,
   "metadata": {
    "scrolled": true
   },
   "outputs": [
    {
     "name": "stdout",
     "output_type": "stream",
     "text": [
      "Unpickle data to process for NLP. File 0\n",
      "Unpickle data to process for NLP. File 1\n",
      "Unpickle data to process for NLP. File 2\n",
      "Unpickle data to process for NLP. File 3\n",
      "Unpickle data to process for NLP. File 4\n",
      "Unpickle data to process for NLP. File 5\n",
      "Unpickle data to process for NLP. File 6\n",
      "Unpickle data to process for NLP. File 7\n",
      "Unpickle data to process for NLP. File 8\n",
      "Unpickle data to process for NLP. File 9\n",
      "Unpickle data to process for NLP. File 10\n",
      "Unpickle data to process for NLP. File 11\n",
      "Unpickle data to process for NLP. File 12\n",
      "Unpickle data to process for NLP. File 13\n",
      "Unpickle data to process for NLP. File 14\n",
      "Unpickle data to process for NLP. File 15\n",
      "Unpickle data to process for NLP. File 16\n",
      "Unpickle data to process for NLP. File 17\n",
      "Unpickle data to process for NLP. File 18\n",
      "Unpickle data to process for NLP. File 19\n",
      "Unpickle data to process for NLP. File 20\n",
      "Unpickle data to process for NLP. File 21\n",
      "Unpickle data to process for NLP. File 22\n",
      "Unpickle data to process for NLP. File 23\n",
      "Unpickle data to process for NLP. File 24\n",
      "Unpickle data to process for NLP. File 25\n",
      "Unpickle data to process for NLP. File 26\n",
      "Unpickle data to process for NLP. File 27\n",
      "Unpickle data to process for NLP. File 28\n",
      "Unpickle data to process for NLP. File 29\n",
      "Unpickle data to process for NLP. File 30\n",
      "Unpickle data to process for NLP. File 31\n",
      "Unpickle data to process for NLP. File 32\n",
      "Unpickle data to process for NLP. File 33\n",
      "Unpickle data to process for NLP. File 34\n",
      "Unpickle data to process for NLP. File 35\n",
      "Unpickle data to process for NLP. File 36\n",
      "Unpickle data to process for NLP. File 37\n",
      "Unpickle data to process for NLP. File 38\n",
      "Unpickle data to process for NLP. File 39\n",
      "Unpickle data to process for NLP. File 40\n",
      "Unpickle data to process for NLP. File 41\n",
      "Unpickle data to process for NLP. File 42\n",
      "Unpickle data to process for NLP. File 43\n",
      "Unpickle data to process for NLP. File 44\n",
      "Unpickle data to process for NLP. File 45\n",
      "Unpickle data to process for NLP. File 46\n",
      "Unpickle data to process for NLP. File 47\n",
      "Unpickle data to process for NLP. File 48\n",
      "Unpickle data to process for NLP. File 49\n",
      "Unpickle data to process for NLP. File 50\n",
      "Unpickle data to process for NLP. File 51\n",
      "Unpickle data to process for NLP. File 52\n",
      "Unpickle data to process for NLP. File 53\n",
      "Unpickle data to process for NLP. File 54\n"
     ]
    }
   ],
   "source": [
    "category_counts_dictionary = {}\n",
    "i=0\n",
    "\n",
    "for file in pickle_list:\n",
    "    print(\"Unpickle data to process for NLP. File %s\" % str(i))\n",
    "    pickle_part = pickle.load(open(input_dir+file, \"rb\" ))\n",
    "    \n",
    "    for p in pickle_part:\n",
    "        for q in p[2]:\n",
    "            words_count = len(p[1].split())\n",
    "            if str(q) in category_counts_dictionary.keys():\n",
    "                category_counts_dictionary[str(q)]['number'] += 1\n",
    "                category_counts_dictionary[str(q)]['words'] += words_count\n",
    "                if words_count in category_counts_dictionary[str(q)]['article_dist']:\n",
    "                    category_counts_dictionary[str(q)]['article_dist'][words_count][0] += 1\n",
    "                    category_counts_dictionary[str(q)]['article_dist'][words_count][1].append(p[0])\n",
    "                else:\n",
    "                    category_counts_dictionary[str(q)]['article_dist'][words_count] = [1,[p[0]]]\n",
    "            else:\n",
    "                category_counts_dictionary.update({str(q): { \"number\" : 1, \"words\" : words_count , \"article_dist\" : {words_count: [1,[p[0]]]}}})\n",
    "    \n",
    "    i=i+1\n",
    "\n",
    "pickle_file = output_dir+\"cat doc map\"\n",
    "pickle.dump(category_counts_dictionary, open(pickle_file, 'wb'), pickle.HIGHEST_PROTOCOL)"
   ]
  }
 ],
 "metadata": {
  "kernelspec": {
   "display_name": "Python 3",
   "language": "python",
   "name": "python3"
  },
  "language_info": {
   "codemirror_mode": {
    "name": "ipython",
    "version": 3
   },
   "file_extension": ".py",
   "mimetype": "text/x-python",
   "name": "python",
   "nbconvert_exporter": "python",
   "pygments_lexer": "ipython3",
   "version": "3.6.5"
  }
 },
 "nbformat": 4,
 "nbformat_minor": 2
}
