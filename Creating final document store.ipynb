{
 "cells": [
  {
   "cell_type": "markdown",
   "metadata": {},
   "source": [
    "## Creating final document store"
   ]
  },
  {
   "cell_type": "code",
   "execution_count": 7,
   "metadata": {},
   "outputs": [],
   "source": [
    "import pickle\n",
    "import os"
   ]
  },
  {
   "cell_type": "code",
   "execution_count": 8,
   "metadata": {},
   "outputs": [],
   "source": [
    "pickle_list = []\n",
    "\n",
    "input_dir = \"/home/de-admin/Documents/open data/wikipedia final pickle/\"\n",
    "\n",
    "for p in os.listdir(input_dir):\n",
    "    pickle_list.append(p)"
   ]
  },
  {
   "cell_type": "code",
   "execution_count": 9,
   "metadata": {},
   "outputs": [],
   "source": [
    "import pymongo\n",
    "from pymongo import DeleteMany\n",
    "from pymongo.errors import BulkWriteError"
   ]
  },
  {
   "cell_type": "code",
   "execution_count": 10,
   "metadata": {},
   "outputs": [],
   "source": [
    "db = pymongo.MongoClient().doc_store\n",
    "\n",
    "# In order to reset database\n",
    "db.raw.drop()"
   ]
  },
  {
   "cell_type": "code",
   "execution_count": 12,
   "metadata": {
    "scrolled": true
   },
   "outputs": [
    {
     "ename": "ValueError",
     "evalue": "unsupported pickle protocol: 4",
     "output_type": "error",
     "traceback": [
      "\u001b[0;31m---------------------------------------------------------------------------\u001b[0m",
      "\u001b[0;31mValueError\u001b[0m                                Traceback (most recent call last)",
      "\u001b[0;32m<ipython-input-12-b406f3e3dfe8>\u001b[0m in \u001b[0;36m<module>\u001b[0;34m()\u001b[0m\n\u001b[1;32m      1\u001b[0m \u001b[0;32mfor\u001b[0m \u001b[0mp\u001b[0m \u001b[0;32min\u001b[0m \u001b[0mpickle_list\u001b[0m\u001b[0;34m:\u001b[0m\u001b[0;34m\u001b[0m\u001b[0m\n\u001b[1;32m      2\u001b[0m     \u001b[0;32mwith\u001b[0m \u001b[0mopen\u001b[0m\u001b[0;34m(\u001b[0m\u001b[0minput_dir\u001b[0m\u001b[0;34m+\u001b[0m\u001b[0mp\u001b[0m\u001b[0;34m,\u001b[0m \u001b[0;34m\"rb\"\u001b[0m\u001b[0;34m)\u001b[0m \u001b[0;32mas\u001b[0m \u001b[0mf\u001b[0m\u001b[0;34m:\u001b[0m\u001b[0;34m\u001b[0m\u001b[0m\n\u001b[0;32m----> 3\u001b[0;31m         \u001b[0mpickle_part\u001b[0m \u001b[0;34m=\u001b[0m \u001b[0mpickle\u001b[0m\u001b[0;34m.\u001b[0m\u001b[0mload\u001b[0m\u001b[0;34m(\u001b[0m\u001b[0mf\u001b[0m\u001b[0;34m)\u001b[0m\u001b[0;34m\u001b[0m\u001b[0m\n\u001b[0m\u001b[1;32m      4\u001b[0m \u001b[0;34m\u001b[0m\u001b[0m\n\u001b[1;32m      5\u001b[0m     \u001b[0;32mprint\u001b[0m\u001b[0;34m(\u001b[0m\u001b[0;34m\"Pickle Loaded\"\u001b[0m\u001b[0;34m)\u001b[0m\u001b[0;34m\u001b[0m\u001b[0m\n",
      "\u001b[0;32m/usr/lib/python2.7/pickle.pyc\u001b[0m in \u001b[0;36mload\u001b[0;34m(file)\u001b[0m\n\u001b[1;32m   1382\u001b[0m \u001b[0;34m\u001b[0m\u001b[0m\n\u001b[1;32m   1383\u001b[0m \u001b[0;32mdef\u001b[0m \u001b[0mload\u001b[0m\u001b[0;34m(\u001b[0m\u001b[0mfile\u001b[0m\u001b[0;34m)\u001b[0m\u001b[0;34m:\u001b[0m\u001b[0;34m\u001b[0m\u001b[0m\n\u001b[0;32m-> 1384\u001b[0;31m     \u001b[0;32mreturn\u001b[0m \u001b[0mUnpickler\u001b[0m\u001b[0;34m(\u001b[0m\u001b[0mfile\u001b[0m\u001b[0;34m)\u001b[0m\u001b[0;34m.\u001b[0m\u001b[0mload\u001b[0m\u001b[0;34m(\u001b[0m\u001b[0;34m)\u001b[0m\u001b[0;34m\u001b[0m\u001b[0m\n\u001b[0m\u001b[1;32m   1385\u001b[0m \u001b[0;34m\u001b[0m\u001b[0m\n\u001b[1;32m   1386\u001b[0m \u001b[0;32mdef\u001b[0m \u001b[0mloads\u001b[0m\u001b[0;34m(\u001b[0m\u001b[0mstr\u001b[0m\u001b[0;34m)\u001b[0m\u001b[0;34m:\u001b[0m\u001b[0;34m\u001b[0m\u001b[0m\n",
      "\u001b[0;32m/usr/lib/python2.7/pickle.pyc\u001b[0m in \u001b[0;36mload\u001b[0;34m(self)\u001b[0m\n\u001b[1;32m    862\u001b[0m             \u001b[0;32mwhile\u001b[0m \u001b[0;36m1\u001b[0m\u001b[0;34m:\u001b[0m\u001b[0;34m\u001b[0m\u001b[0m\n\u001b[1;32m    863\u001b[0m                 \u001b[0mkey\u001b[0m \u001b[0;34m=\u001b[0m \u001b[0mread\u001b[0m\u001b[0;34m(\u001b[0m\u001b[0;36m1\u001b[0m\u001b[0;34m)\u001b[0m\u001b[0;34m\u001b[0m\u001b[0m\n\u001b[0;32m--> 864\u001b[0;31m                 \u001b[0mdispatch\u001b[0m\u001b[0;34m[\u001b[0m\u001b[0mkey\u001b[0m\u001b[0;34m]\u001b[0m\u001b[0;34m(\u001b[0m\u001b[0mself\u001b[0m\u001b[0;34m)\u001b[0m\u001b[0;34m\u001b[0m\u001b[0m\n\u001b[0m\u001b[1;32m    865\u001b[0m         \u001b[0;32mexcept\u001b[0m \u001b[0m_Stop\u001b[0m\u001b[0;34m,\u001b[0m \u001b[0mstopinst\u001b[0m\u001b[0;34m:\u001b[0m\u001b[0;34m\u001b[0m\u001b[0m\n\u001b[1;32m    866\u001b[0m             \u001b[0;32mreturn\u001b[0m \u001b[0mstopinst\u001b[0m\u001b[0;34m.\u001b[0m\u001b[0mvalue\u001b[0m\u001b[0;34m\u001b[0m\u001b[0m\n",
      "\u001b[0;32m/usr/lib/python2.7/pickle.pyc\u001b[0m in \u001b[0;36mload_proto\u001b[0;34m(self)\u001b[0m\n\u001b[1;32m    890\u001b[0m         \u001b[0mproto\u001b[0m \u001b[0;34m=\u001b[0m \u001b[0mord\u001b[0m\u001b[0;34m(\u001b[0m\u001b[0mself\u001b[0m\u001b[0;34m.\u001b[0m\u001b[0mread\u001b[0m\u001b[0;34m(\u001b[0m\u001b[0;36m1\u001b[0m\u001b[0;34m)\u001b[0m\u001b[0;34m)\u001b[0m\u001b[0;34m\u001b[0m\u001b[0m\n\u001b[1;32m    891\u001b[0m         \u001b[0;32mif\u001b[0m \u001b[0;32mnot\u001b[0m \u001b[0;36m0\u001b[0m \u001b[0;34m<=\u001b[0m \u001b[0mproto\u001b[0m \u001b[0;34m<=\u001b[0m \u001b[0;36m2\u001b[0m\u001b[0;34m:\u001b[0m\u001b[0;34m\u001b[0m\u001b[0m\n\u001b[0;32m--> 892\u001b[0;31m             \u001b[0;32mraise\u001b[0m \u001b[0mValueError\u001b[0m\u001b[0;34m,\u001b[0m \u001b[0;34m\"unsupported pickle protocol: %d\"\u001b[0m \u001b[0;34m%\u001b[0m \u001b[0mproto\u001b[0m\u001b[0;34m\u001b[0m\u001b[0m\n\u001b[0m\u001b[1;32m    893\u001b[0m     \u001b[0mdispatch\u001b[0m\u001b[0;34m[\u001b[0m\u001b[0mPROTO\u001b[0m\u001b[0;34m]\u001b[0m \u001b[0;34m=\u001b[0m \u001b[0mload_proto\u001b[0m\u001b[0;34m\u001b[0m\u001b[0m\n\u001b[1;32m    894\u001b[0m \u001b[0;34m\u001b[0m\u001b[0m\n",
      "\u001b[0;31mValueError\u001b[0m: unsupported pickle protocol: 4"
     ]
    }
   ],
   "source": [
    "n1 = 0\n",
    "n2 = 3\n",
    "\n",
    "for p in pickle_list[n1:n2]:\n",
    "    with open(input_dir+p, \"rb\") as f:\n",
    "        pickle_part = pickle.load(f)\n",
    "\n",
    "    print(\"Pickle Loaded\")\n",
    "    \n",
    "    try:\n",
    "        db.raw.insert_many([{'_id': str(pp[0]), 'text': pp[1]} for pp in pickle_part], ordered=False).inserted_ids\n",
    "        print(\"Data Inserted\")\n",
    "    except BulkWriteError as bwe:\n",
    "        print(bwe.details)"
   ]
  },
  {
   "cell_type": "code",
   "execution_count": 15,
   "metadata": {},
   "outputs": [
    {
     "data": {
      "text/plain": [
       "{'_id': 'Helena Carroll',\n",
       " 'text': 'distinguish helen carroll use british english date april 2014 footnote date april 2013 use dmy date date april 2014 infobox person name helena carroll image imagesize caption birthname helena winifred carroll birthdate birthdate 1928 11 13 df yes birthplace glasgow scotland uk deathdate deathdate age 2013 3 31 1928 11 13 df yes deathplace los angeles california us occupation actress yearsactive 19502013 helena winifred carroll 13 november 1928 – 31 march 2013 veteran film television stage actress bear clothe designer helena reilly abbey theatre playwright paul vincent carroll ref “obituary notices carroll helena winifred” los angeles time 5 april 2013 ref youngest three sisters elder sisters theresa elizabeth perez 19242001 classically train musician producerfounder peoples pop concert phoenix arizona journalist kathleen moira carroll 19272007 ref “death notices carroll kathleen m” daily news 17 january 2007 ref miss carroll attend clerkhill notre dame high school glasgow notre dame high school roman catholic convent school dumbarton receive train central school later become webber douglas academy dramatic art london appear three play londons west end film midnight episode age 20 make broadway debut separate table terence rattigan move us 1950s tour perform broadway cofounded dermot mcnamara date april 2013 irish players repertory theater company manhattan ref bolton whitney “best broadway” philadelphia inquirer 9 october 1958 ref ref httpswwwnytimescom20130411movieshelenacarrollactressandirishplayerscofounderdiesat84htmlrefobituaries obituary helena carroll new york time 11 april 2013 ref dawn television miss carroll play lead role nora television production fathers play white steed 1959 play week series direct joe gisterak gisterak direct 1980 commission opera fathers play beauty flee part childrens opera series sister theresa perez founded opera perform phoenix symphony hall helena split stage work dublin london new york ref lebherz richard “people profile helena carroll” news 14 october 1970 ref appear broadway among productions original production oliver mrs sowerberry well pickwick musical pickwick design live wait wing play wait wing elizabeth taylor richard burton revivals private live new york los angeles ref httpwwwibdbcompersonphpid73575 helena carrolls ibdb profile access 13 april 2014 ref prompt friends precede los angeles producer al simon cast director caro jones latter give les moonves president cbs first job biz carroll move los angeles late 1960s appear numerous film television programs include john huston academy award nominate film dead short story dead friends eddie coyle star robert mitchum jerk film jerk direct carl reiner star steve martin mambo kings warren beatty remake love affair 1994 film love affair 1979 nbc miniseries backstairs white house ref o’haire pat “check ‘em door” daily news 26 may 1978 ref television program general hospital edge night love couple 1980 film love couple laverne shirley murder write etc ref httpswwwimdbcomnamenm0140833 helena carrolls imdb profile access 13 april 2014 ref death carroll reside los angeles die marina del rey california heart failure 31 march 2013 age 84 last stage performance 2007 age 78 survive half brother brian carroll niece helena perez reilly greatnephew paul vincent reilly ref httpsvarietycom2013legitpeoplenewsobituariespeoplenewsirishthesphelenacarrolldiesat841200332626 obituary helena carroll variety access 13 april 2014 ref references reflist external links findagrave 107855496 authority control defaultsortcarroll helena category1928 birth category2013 deaths categoryactresses edinburgh categoryscottish film actresses categoryscottish musical theatre actresses categoryscottish stage actresses categoryscottish television actresses categoryscottish people irish descent categoryscottish roman catholics categorypeople educate notre dame high school glasgow'}"
      ]
     },
     "execution_count": 15,
     "metadata": {},
     "output_type": "execute_result"
    }
   ],
   "source": [
    "#db.test.count_documents({})\n",
    "db.raw.find_one()"
   ]
  },
  {
   "cell_type": "markdown",
   "metadata": {},
   "source": [
    "#Joining example:\n",
    "\n",
    "db.orders.aggregate([\n",
    "   {\n",
    "      $lookup: {\n",
    "         from: \"items\",\n",
    "         localField: \"item\",    // field in the orders collection\n",
    "         foreignField: \"item\",  // field in the items collection\n",
    "         as: \"fromItems\"\n",
    "      }\n",
    "   },\n",
    "   {\n",
    "      $replaceRoot: { newRoot: { $mergeObjects: [ { $arrayElemAt: [ \"$fromItems\", 0 ] }, \"$$ROOT\" ] } }\n",
    "   },\n",
    "   { $project: { fromItems: 0 } }\n",
    "])"
   ]
  },
  {
   "cell_type": "markdown",
   "metadata": {},
   "source": [
    "#For emptying the database:\n",
    "\n",
    "from pymongo import DeleteMany\n",
    "result = db.test.bulk_write([DeleteMany({})])"
   ]
  }
 ],
 "metadata": {
  "kernelspec": {
   "display_name": "Python 3",
   "language": "python",
   "name": "python3"
  },
  "language_info": {
   "codemirror_mode": {
    "name": "ipython",
    "version": 2
   },
   "file_extension": ".py",
   "mimetype": "text/x-python",
   "name": "python",
   "nbconvert_exporter": "python",
   "pygments_lexer": "ipython2",
   "version": "2.7.15rc1"
  }
 },
 "nbformat": 4,
 "nbformat_minor": 2
}
