{
 "cells": [
  {
   "cell_type": "code",
   "execution_count": 1,
   "metadata": {},
   "outputs": [],
   "source": [
    "import pymongo\n",
    "from pymongo.errors import BulkWriteError"
   ]
  },
  {
   "cell_type": "code",
   "execution_count": 2,
   "metadata": {},
   "outputs": [],
   "source": [
    "#Check mongodb is running in the terminal\n",
    "db = pymongo.MongoClient().doc_store\n",
    "\n",
    "# In order to reset database\n",
    "#db.vocab.drop()"
   ]
  },
  {
   "cell_type": "code",
   "execution_count": 3,
   "metadata": {},
   "outputs": [],
   "source": [
    "#Make a generator to call document level word counts one at a time from mongo\n",
    "\n",
    "def wordcount_generator():\n",
    "    full_corpus = db.count.find({})\n",
    "\n",
    "    for record in full_corpus:\n",
    "        yield record['count']"
   ]
  },
  {
   "cell_type": "code",
   "execution_count": null,
   "metadata": {},
   "outputs": [
    {
     "name": "stdout",
     "output_type": "stream",
     "text": [
      "Counting Words\n",
      "Counting Words 0\n",
      "Counting Words 250000\n",
      "Counting Words 500000\n",
      "Counting Words 750000\n",
      "Counting Words 1000000\n",
      "Counting Words 1250000\n"
     ]
    }
   ],
   "source": [
    "from collections import Counter\n",
    "    \n",
    "c = Counter()\n",
    "\n",
    "wordcount = wordcount_generator()\n",
    "\n",
    "print(\"Counting Words\")\n",
    "i = 0\n",
    "for w_c in wordcount:\n",
    "    if i % 250000 == 0:\n",
    "        print(\"Counting Words \"+str(i))\n",
    "        \n",
    "    i = i + 1\n",
    "    c.update(w_c)\n",
    "    \n",
    "# This creates a counter with 66,634,259 unique entries"
   ]
  },
  {
   "cell_type": "code",
   "execution_count": null,
   "metadata": {
    "scrolled": true
   },
   "outputs": [],
   "source": [
    "print(\"Inserting Vocab\")\n",
    "error_log = []\n",
    "\n",
    "i = 0\n",
    "for word in c.items():\n",
    "    if i % 1000000 == 0:\n",
    "        print(\"Inserting Vocab \" + str(i))\n",
    "        \n",
    "    i = i + 1\n",
    "    try:\n",
    "        db.vocab.insert_one({'_id': word[0], 'count': word[1]})\n",
    "    except Exception as e:\n",
    "        error_log.append(e)\n",
    "        continue\n"
   ]
  },
  {
   "cell_type": "code",
   "execution_count": null,
   "metadata": {},
   "outputs": [],
   "source": [
    "print(\"There were \"+str(len(c))+\" records to insert. There were \"+str(len(error_log))+\" errors. Theere were \"+str(db.vocab.count())+\" records inserted.\")\n",
    "print(\"All records accounted for.\")"
   ]
  },
  {
   "cell_type": "code",
   "execution_count": null,
   "metadata": {},
   "outputs": [],
   "source": [
    "from collections import Counter\n",
    "    \n",
    "c2 = Counter()\n",
    "\n",
    "wordcount = wordcount_generator()\n",
    "\n",
    "print(\"Counting Words\")\n",
    "i = 0\n",
    "for w_c in wordcount:\n",
    "    if i % 250000 == 0:\n",
    "        print(\"Counting Words \"+str(i))\n",
    "        \n",
    "    i = i + 1\n",
    "    c2.update(w_c.keys())\n",
    "    \n",
    "# This creates a counter with 66,634,259 unique entries"
   ]
  },
  {
   "cell_type": "code",
   "execution_count": null,
   "metadata": {},
   "outputs": [],
   "source": [
    "print(\"Inserting Vocab\")\n",
    "error_log = []\n",
    "\n",
    "i = 0\n",
    "for word in c.items():\n",
    "    if i % 1000000 == 0:\n",
    "        print(\"Inserting Vocab \" + str(i))\n",
    "        \n",
    "    i = i + 1\n",
    "    try:\n",
    "        db.vocab.update({\"_id\":  word[0]},{\"$set\" : {'docs': word[1]}})\n",
    "    except Exception as e:\n",
    "        error_log.append(e)\n",
    "        continue"
   ]
  }
 ],
 "metadata": {
  "kernelspec": {
   "display_name": "Python 3",
   "language": "python",
   "name": "python3"
  },
  "language_info": {
   "codemirror_mode": {
    "name": "ipython",
    "version": 3
   },
   "file_extension": ".py",
   "mimetype": "text/x-python",
   "name": "python",
   "nbconvert_exporter": "python",
   "pygments_lexer": "ipython3",
   "version": "3.6.6"
  }
 },
 "nbformat": 4,
 "nbformat_minor": 2
}
