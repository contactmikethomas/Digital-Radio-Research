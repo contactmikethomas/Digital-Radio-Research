{
 "cells": [
  {
   "cell_type": "markdown",
   "metadata": {},
   "source": [
    "## Load category database into neo4j"
   ]
  },
  {
   "cell_type": "code",
   "execution_count": 1,
   "metadata": {},
   "outputs": [],
   "source": [
    "import pickle"
   ]
  },
  {
   "cell_type": "code",
   "execution_count": 2,
   "metadata": {},
   "outputs": [],
   "source": [
    "cat_list = pickle.load(open(\"/home/de-admin/Documents/open data/wikipedia category final pickle/final category list\", \"rb\" ))"
   ]
  },
  {
   "cell_type": "code",
   "execution_count": 3,
   "metadata": {},
   "outputs": [],
   "source": [
    "import string\n",
    "import csv"
   ]
  },
  {
   "cell_type": "code",
   "execution_count": 4,
   "metadata": {},
   "outputs": [],
   "source": [
    "translator = str.maketrans('', '', string.punctuation)\n",
    "\n",
    "def regularise_category(cat):\n",
    "    if cat.startswith(\"[[Category:\"):\n",
    "        cat_clean = cat[11:].translate(translator)\n",
    "    else:\n",
    "        cat_clean = cat.translate(translator)\n",
    "    \n",
    "    return cat_clean"
   ]
  },
  {
   "cell_type": "code",
   "execution_count": 110,
   "metadata": {},
   "outputs": [],
   "source": [
    "relationship_list = []\n",
    "\n",
    "for cat in cat_list:\n",
    "    for c in cat[1]:\n",
    "        if cat[0] != \"\":\n",
    "            if c != \"\":\n",
    "                relationship_list.append([regularise_category(cat[0]),regularise_category(c)])\n",
    "\n",
    "all_relationships = [[\"down\",\"up\"]]\n",
    "\n",
    "for r in relationship_list:\n",
    "    all_relationships.append(r)"
   ]
  },
  {
   "cell_type": "code",
   "execution_count": 122,
   "metadata": {},
   "outputs": [],
   "source": [
    "with open('/home/de-admin/Documents/open data/wikipedia category final pickle/relationships.csv', 'w') as f:\n",
    "    writer = csv.writer(f, quoting=csv.QUOTE_ALL)\n",
    "    for r in all_relationships:\n",
    "        writer.writerow(r)"
   ]
  },
  {
   "cell_type": "code",
   "execution_count": 101,
   "metadata": {},
   "outputs": [],
   "source": [
    "all_nodes = []\n",
    "\n",
    "for r in relationship_list:\n",
    "    if r[0] != '':\n",
    "        all_nodes.append(r[0])\n",
    "    if r[2] != '':\n",
    "        all_nodes.append(r[2])\n",
    "    \n",
    "set_nodes = list(set(all_nodes))\n",
    "\n",
    "all_nodes = [\"name\"]\n",
    "\n",
    "for n in set_nodes:\n",
    "    all_nodes.append(n)"
   ]
  },
  {
   "cell_type": "code",
   "execution_count": 106,
   "metadata": {
    "scrolled": true
   },
   "outputs": [],
   "source": [
    "with open('/home/de-admin/Documents/open data/wikipedia category final pickle/nodes.csv', 'w') as f:\n",
    "    writer = csv.writer(f, quoting=csv.QUOTE_ALL)\n",
    "    for node in all_nodes:\n",
    "        writer.writerow([node])"
   ]
  },
  {
   "cell_type": "code",
   "execution_count": null,
   "metadata": {},
   "outputs": [],
   "source": []
  },
  {
   "cell_type": "code",
   "execution_count": null,
   "metadata": {},
   "outputs": [],
   "source": [
    "from neo4j.v1 import GraphDatabase"
   ]
  },
  {
   "cell_type": "code",
   "execution_count": null,
   "metadata": {},
   "outputs": [],
   "source": [
    "driver = GraphDatabase.driver(\"bolt://localhost:7687\", auth=(\"neo4j\", \"dataexploitation\"))\n",
    "\n",
    "query = 'USING PERIODIC COMMIT LOAD CSV WITH HEADERS FROM \"file:///nodes.csv\" as line CREATE (:Category {name: line.name})'\n",
    "with driver.session() as session:\n",
    "    session.run(query)"
   ]
  },
  {
   "cell_type": "code",
   "execution_count": null,
   "metadata": {},
   "outputs": [],
   "source": [
    "query = 'USING PERIODIC COMMIT LOAD CSV WITH HEADERS FROM \"file:///relationships.csv\" as line MATCH (a:Category {name: line.down}) MATCH (b:Category {name: line.up}) MERGE (a)-[:IS_PART_OF]->(b)'\n",
    "with driver.session() as session:\n",
    "    session.run(query)"
   ]
  },
  {
   "cell_type": "code",
   "execution_count": null,
   "metadata": {},
   "outputs": [],
   "source": []
  },
  {
   "cell_type": "code",
   "execution_count": 6,
   "metadata": {},
   "outputs": [],
   "source": [
    "cat_doc_map = pickle.load(open(\"/home/de-admin/Documents/open data/wikipedia category document map/cat doc map\", \"rb\" ))"
   ]
  },
  {
   "cell_type": "code",
   "execution_count": 24,
   "metadata": {},
   "outputs": [],
   "source": [
    "to_change = []\n",
    "\n",
    "for (outer_k, outer_v) in cat_doc_map.items():\n",
    "    to_change.append(outer_k)\n",
    "    \n",
    "for outer_k in to_change:\n",
    "    cat_doc_map[regularise_category(outer_k)] = cat_doc_map[outer_k]\n",
    "    del cat_doc_map[outer_k]"
   ]
  },
  {
   "cell_type": "code",
   "execution_count": 49,
   "metadata": {},
   "outputs": [
    {
     "data": {
      "text/plain": [
       "'\"Men\\'s skirts\"'"
      ]
     },
     "execution_count": 49,
     "metadata": {},
     "output_type": "execute_result"
    }
   ],
   "source": [
    "test = repr(cat_doc_map[\"Men\"][\"article_dist\"][3332][1][0])\n",
    "test"
   ]
  }
 ],
 "metadata": {
  "kernelspec": {
   "display_name": "Python 3",
   "language": "python",
   "name": "python3"
  },
  "language_info": {
   "codemirror_mode": {
    "name": "ipython",
    "version": 3
   },
   "file_extension": ".py",
   "mimetype": "text/x-python",
   "name": "python",
   "nbconvert_exporter": "python",
   "pygments_lexer": "ipython3",
   "version": "3.6.5"
  }
 },
 "nbformat": 4,
 "nbformat_minor": 2
}
